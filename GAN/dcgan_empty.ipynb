{
 "cells": [
  {
   "attachments": {},
   "cell_type": "markdown",
   "metadata": {
    "id": "_jQ1tEQCxwRx"
   },
   "source": [
    "# Deep Convolutional Generative Adversarial Network\n",
    "This is a variation of [Tensorflow Deep Convolutional GAN Tutotial](https://www.tensorflow.org/tutorials/generative/dcgan). It demonstrates how to generate images of handwritten digits using a [Deep Convolutional Generative Adversarial Network](https://arxiv.org/pdf/1511.06434.pdf) (DCGAN). The code is written using the [Keras Sequential API](https://www.tensorflow.org/guide/keras) with a `tf.GradientTape` training loop.\n",
    "\n",
    "<a target=\"_blank\" href=\"https://colab.research.google.com/github/PrzemekSekula/DeepLearningClasses1/blob/master/GAN/dcgan_empty.ipynb\">\n",
    "    <img src=\"https://www.tensorflow.org/images/colab_logo_32px.png\" />\n",
    "    Run in Google Colab</a>\n"
   ]
  },
  {
   "cell_type": "code",
   "execution_count": null,
   "metadata": {
    "cellView": "form",
    "execution": {
     "iopub.execute_input": "2022-12-14T06:05:16.300078Z",
     "iopub.status.busy": "2022-12-14T06:05:16.299569Z",
     "iopub.status.idle": "2022-12-14T06:05:16.303464Z",
     "shell.execute_reply": "2022-12-14T06:05:16.302909Z"
    },
    "id": "V_sgB_5dx1f1"
   },
   "outputs": [],
   "source": [
    "#@title Licensed under the Apache License, Version 2.0 (the \"License\");\n",
    "# you may not use this file except in compliance with the License.\n",
    "# You may obtain a copy of the License at\n",
    "#\n",
    "# https://www.apache.org/licenses/LICENSE-2.0\n",
    "#\n",
    "# Unless required by applicable law or agreed to in writing, software\n",
    "# distributed under the License is distributed on an \"AS IS\" BASIS,\n",
    "# WITHOUT WARRANTIES OR CONDITIONS OF ANY KIND, either express or implied.\n",
    "# See the License for the specific language governing permissions and\n",
    "# limitations under the License."
   ]
  },
  {
   "attachments": {},
   "cell_type": "markdown",
   "metadata": {
    "id": "2MbKJY38Puy9"
   },
   "source": [
    "## What are GANs?\n",
    "[Generative Adversarial Networks](https://arxiv.org/abs/1406.2661) (GANs) are one of the most interesting ideas in computer science today. Two models are trained simultaneously by an adversarial process. A *generator* (\"the artist\") learns to create images that look real, while a *discriminator* (\"the art critic\") learns to tell real images apart from fakes.\n",
    "\n",
    "![A diagram of a generator and discriminator](./images/gan1.png)\n",
    "\n",
    "During training, the *generator* progressively becomes better at creating images that look real, while the *discriminator* becomes better at telling them apart. The process reaches equilibrium when the *discriminator* can no longer distinguish real images from fakes.\n",
    "\n",
    "![A second diagram of a generator and discriminator](./images/gan2.png)\n",
    "\n",
    "This notebook demonstrates this process on the MNIST dataset. The following animation shows a series of images produced by the *generator* as it was trained for 50 epochs. The images begin as random noise, and increasingly resemble hand written digits over time.\n",
    "\n",
    "\n",
    "To learn more about GANs, see MIT's [Intro to Deep Learning](http://introtodeeplearning.com/) course."
   ]
  },
  {
   "cell_type": "markdown",
   "metadata": {
    "id": "e1_Y75QXJS6h"
   },
   "source": [
    "### Setup"
   ]
  },
  {
   "cell_type": "code",
   "execution_count": null,
   "metadata": {
    "execution": {
     "iopub.execute_input": "2022-12-14T06:05:16.307236Z",
     "iopub.status.busy": "2022-12-14T06:05:16.306736Z",
     "iopub.status.idle": "2022-12-14T06:05:18.251821Z",
     "shell.execute_reply": "2022-12-14T06:05:18.251094Z"
    },
    "id": "WZKbyU2-AiY-"
   },
   "outputs": [],
   "source": [
    "import tensorflow as tf\n",
    "tf.__version__"
   ]
  },
  {
   "cell_type": "code",
   "execution_count": null,
   "metadata": {
    "execution": {
     "iopub.execute_input": "2022-12-14T06:05:25.208998Z",
     "iopub.status.busy": "2022-12-14T06:05:25.208327Z",
     "iopub.status.idle": "2022-12-14T06:05:25.605914Z",
     "shell.execute_reply": "2022-12-14T06:05:25.605186Z"
    },
    "id": "YfIk2es3hJEd"
   },
   "outputs": [],
   "source": [
    "import glob\n",
    "import matplotlib.pyplot as plt\n",
    "import numpy as np\n",
    "import os\n",
    "import PIL\n",
    "from tensorflow.keras import layers\n",
    "import time\n",
    "\n",
    "from IPython import display"
   ]
  },
  {
   "cell_type": "markdown",
   "metadata": {
    "id": "iYn4MdZnKCey"
   },
   "source": [
    "### Load and prepare the dataset\n",
    "\n",
    "You will use the MNIST dataset to train the generator and the discriminator. The generator will generate handwritten digits resembling the MNIST data."
   ]
  },
  {
   "cell_type": "code",
   "execution_count": null,
   "metadata": {
    "execution": {
     "iopub.execute_input": "2022-12-14T06:05:25.610623Z",
     "iopub.status.busy": "2022-12-14T06:05:25.609967Z",
     "iopub.status.idle": "2022-12-14T06:05:25.873897Z",
     "shell.execute_reply": "2022-12-14T06:05:25.873140Z"
    },
    "id": "a4fYMGxGhrna"
   },
   "outputs": [],
   "source": [
    "(train_images, train_labels), (_, _) = tf.keras.datasets.mnist.load_data()"
   ]
  },
  {
   "attachments": {},
   "cell_type": "markdown",
   "metadata": {},
   "source": [
    "### Task 1 - Image normalization\n",
    "Normalize the images to [-1, 1]"
   ]
  },
  {
   "cell_type": "code",
   "execution_count": null,
   "metadata": {
    "execution": {
     "iopub.execute_input": "2022-12-14T06:05:25.878399Z",
     "iopub.status.busy": "2022-12-14T06:05:25.877727Z",
     "iopub.status.idle": "2022-12-14T06:05:26.027365Z",
     "shell.execute_reply": "2022-12-14T06:05:26.026555Z"
    },
    "id": "NFC2ghIdiZYE"
   },
   "outputs": [],
   "source": [
    "train_images = train_images.reshape(train_images.shape[0], 28, 28, 1).astype('float32')\n",
    "#ENTER YOUR CODE HERE\n"
   ]
  },
  {
   "attachments": {},
   "cell_type": "markdown",
   "metadata": {},
   "source": [
    "Plot examples of the `mnist` dataset"
   ]
  },
  {
   "cell_type": "code",
   "execution_count": null,
   "metadata": {},
   "outputs": [],
   "source": []
  },
  {
   "cell_type": "code",
   "execution_count": null,
   "metadata": {
    "execution": {
     "iopub.execute_input": "2022-12-14T06:05:26.031567Z",
     "iopub.status.busy": "2022-12-14T06:05:26.031294Z",
     "iopub.status.idle": "2022-12-14T06:05:26.034760Z",
     "shell.execute_reply": "2022-12-14T06:05:26.034147Z"
    },
    "id": "S4PIDhoDLbsZ"
   },
   "outputs": [],
   "source": [
    "BUFFER_SIZE = None\n",
    "BATCH_SIZE = None"
   ]
  },
  {
   "cell_type": "code",
   "execution_count": null,
   "metadata": {
    "execution": {
     "iopub.execute_input": "2022-12-14T06:05:26.038219Z",
     "iopub.status.busy": "2022-12-14T06:05:26.037553Z",
     "iopub.status.idle": "2022-12-14T06:05:29.795940Z",
     "shell.execute_reply": "2022-12-14T06:05:29.795232Z"
    },
    "id": "-yKCCQOoJ7cn"
   },
   "outputs": [],
   "source": [
    "# Batch and shuffle the data\n"
   ]
  },
  {
   "cell_type": "markdown",
   "metadata": {
    "id": "THY-sZMiQ4UV"
   },
   "source": [
    "## Create the models\n",
    "\n",
    "Both the generator and discriminator are defined using the [Keras Sequential API](https://www.tensorflow.org/guide/keras#sequential_model)."
   ]
  },
  {
   "cell_type": "markdown",
   "metadata": {
    "id": "-tEyxE-GMC48"
   },
   "source": [
    "### The Generator\n",
    "\n",
    "The generator uses `tf.keras.layers.Conv2DTranspose` (upsampling) layers to produce an image from a seed (random noise). Start with a `Dense` layer that takes this seed as input, then upsample several times until you reach the desired image size of 28x28x1. Notice the `tf.keras.layers.LeakyReLU` activation for each layer, except the output layer which uses tanh."
   ]
  },
  {
   "attachments": {},
   "cell_type": "markdown",
   "metadata": {},
   "source": [
    "### Task 2\n",
    "Create a generator with the following layers\n",
    "- `Dense` layer with:\n",
    "    - 100 number-long vector as the input size\n",
    "    - 7*7*256 neurons\n",
    "    - no biases\n",
    "    - `BatchNormalization` layer\n",
    "    - `LeakyReLU` activation function\n",
    "- `Reshape` layer that reshapes the data into a (7 x 7 x 256) tensor\n",
    "- `Conv2DTranspose` layer with:\n",
    "    - 128 filters\n",
    "    - 5 x 5 filter size\n",
    "    - padding `same`\n",
    "    - no biases\n",
    "    - `BatchNormalization`\n",
    "    - `LeakyReLU` activation function\n",
    "- `Conv2DTranspose` layer with:\n",
    "    - 64 filters\n",
    "    - 5 x 5 filter size\n",
    "    - padding `same`\n",
    "    - 2 x 2 strides\n",
    "    - no biases\n",
    "    - `BatchNormalization`\n",
    "    - `LeakyReLU` activation function\n",
    "- `Conv2DTranspose` layer with:\n",
    "    - 1 filter\n",
    "    - 5 x 5 filter size\n",
    "    - padding `same`\n",
    "    - 2 x 2 strides\n",
    "    - no biases\n",
    "    - `tanh` activation function`\n"
   ]
  },
  {
   "cell_type": "code",
   "execution_count": null,
   "metadata": {
    "execution": {
     "iopub.execute_input": "2022-12-14T06:05:29.800586Z",
     "iopub.status.busy": "2022-12-14T06:05:29.799964Z",
     "iopub.status.idle": "2022-12-14T06:05:29.806533Z",
     "shell.execute_reply": "2022-12-14T06:05:29.805969Z"
    },
    "id": "6bpTcDqoLWjY"
   },
   "outputs": [],
   "source": [
    "def make_generator_model():\n",
    "    model = tf.keras.Sequential()\n",
    "    # ENTER YOUR CODE HERE\n",
    "    return model"
   ]
  },
  {
   "cell_type": "markdown",
   "metadata": {
    "id": "GyWgG09LCSJl"
   },
   "source": [
    "Use the (as yet untrained) generator to create an image."
   ]
  },
  {
   "cell_type": "code",
   "execution_count": null,
   "metadata": {
    "execution": {
     "iopub.execute_input": "2022-12-14T06:05:29.810081Z",
     "iopub.status.busy": "2022-12-14T06:05:29.809496Z",
     "iopub.status.idle": "2022-12-14T06:05:31.428931Z",
     "shell.execute_reply": "2022-12-14T06:05:31.428297Z"
    },
    "id": "gl7jcC7TdPTG"
   },
   "outputs": [],
   "source": [
    "generator = None\n",
    "noise = None\n",
    "generated_image = None\n",
    "\n",
    "plt.imshow(generated_image[0, :, :, 0], cmap='gray')"
   ]
  },
  {
   "cell_type": "markdown",
   "metadata": {
    "id": "D0IKnaCtg6WE"
   },
   "source": [
    "### The Discriminator\n",
    "\n",
    "The discriminator is a CNN-based image classifier."
   ]
  },
  {
   "attachments": {},
   "cell_type": "markdown",
   "metadata": {},
   "source": [
    "### Task 3\n",
    "Create a discriminator with the following layers\n",
    "- `Conv2D` layer with:\n",
    "    - 64 (5, 5) filters\n",
    "    - strides 2, 2\n",
    "    - padding `same`\n",
    "    - correct input shape *(hint: Discriminator works with images)*\n",
    "    - `LeakyReLU` activation function\n",
    "- `Dropout` Layer with 0.3 dropout rate\n",
    "- `Conv2D` layer with:\n",
    "    - 128 (5, 5) filters\n",
    "    - strides 2, 2\n",
    "    - padding `same`\n",
    "    - `LeakyReLU` activation function\n",
    "- `Dropout` layer with 0.3 dropout rate\n",
    "- `Flatten` layer\n",
    "- `Dense` layer with one neuron (no activation function)\n",
    "\n"
   ]
  },
  {
   "cell_type": "code",
   "execution_count": null,
   "metadata": {
    "execution": {
     "iopub.execute_input": "2022-12-14T06:05:31.432468Z",
     "iopub.status.busy": "2022-12-14T06:05:31.431866Z",
     "iopub.status.idle": "2022-12-14T06:05:31.436863Z",
     "shell.execute_reply": "2022-12-14T06:05:31.436308Z"
    },
    "id": "dw2tPLmk2pEP"
   },
   "outputs": [],
   "source": [
    "def make_discriminator_model():\n",
    "    model = tf.keras.Sequential()\n",
    "    # ENTER YOUR CODE HERE\n",
    "    return model"
   ]
  },
  {
   "cell_type": "markdown",
   "metadata": {
    "id": "QhPneagzCaQv"
   },
   "source": [
    "Use the (as yet untrained) discriminator to classify the generated images as real or fake. The model will be trained to output positive values for real images, and negative values for fake images."
   ]
  },
  {
   "cell_type": "code",
   "execution_count": null,
   "metadata": {
    "execution": {
     "iopub.execute_input": "2022-12-14T06:05:31.439764Z",
     "iopub.status.busy": "2022-12-14T06:05:31.439541Z",
     "iopub.status.idle": "2022-12-14T06:05:31.501941Z",
     "shell.execute_reply": "2022-12-14T06:05:31.501293Z"
    },
    "id": "gDkA05NE6QMs"
   },
   "outputs": [],
   "source": [
    "discriminator = None\n",
    "decision = None\n",
    "print (decision)"
   ]
  },
  {
   "cell_type": "markdown",
   "metadata": {
    "id": "0FMYgY_mPfTi"
   },
   "source": [
    "## Define the loss and optimizers\n",
    "\n",
    "Define loss functions and optimizers for both models.\n"
   ]
  },
  {
   "cell_type": "code",
   "execution_count": null,
   "metadata": {
    "execution": {
     "iopub.execute_input": "2022-12-14T06:05:31.505261Z",
     "iopub.status.busy": "2022-12-14T06:05:31.504753Z",
     "iopub.status.idle": "2022-12-14T06:05:31.508111Z",
     "shell.execute_reply": "2022-12-14T06:05:31.507462Z"
    },
    "id": "psQfmXxYKU3X"
   },
   "outputs": [],
   "source": [
    "# This method returns a helper function to compute cross entropy loss\n",
    "cross_entropy = None"
   ]
  },
  {
   "cell_type": "markdown",
   "metadata": {
    "id": "PKY_iPSPNWoj"
   },
   "source": [
    "### Discriminator loss\n",
    "\n",
    "This method quantifies how well the discriminator is able to distinguish real images from fakes. It compares the discriminator's predictions on real images to an array of 1s, and the discriminator's predictions on fake (generated) images to an array of 0s."
   ]
  },
  {
   "cell_type": "code",
   "execution_count": null,
   "metadata": {
    "execution": {
     "iopub.execute_input": "2022-12-14T06:05:31.511469Z",
     "iopub.status.busy": "2022-12-14T06:05:31.511013Z",
     "iopub.status.idle": "2022-12-14T06:05:31.514796Z",
     "shell.execute_reply": "2022-12-14T06:05:31.514013Z"
    },
    "id": "wkMNfBWlT-PV"
   },
   "outputs": [],
   "source": [
    "def discriminator_loss(real_output, fake_output):\n",
    "    total_loss = None\n",
    "    return total_loss"
   ]
  },
  {
   "cell_type": "markdown",
   "metadata": {
    "id": "Jd-3GCUEiKtv"
   },
   "source": [
    "### Generator loss\n",
    "The generator's loss quantifies how well it was able to trick the discriminator. Intuitively, if the generator is performing well, the discriminator will classify the fake images as real (or 1). Here, compare the discriminators decisions on the generated images to an array of 1s."
   ]
  },
  {
   "cell_type": "code",
   "execution_count": null,
   "metadata": {
    "execution": {
     "iopub.execute_input": "2022-12-14T06:05:31.518406Z",
     "iopub.status.busy": "2022-12-14T06:05:31.517698Z",
     "iopub.status.idle": "2022-12-14T06:05:31.521026Z",
     "shell.execute_reply": "2022-12-14T06:05:31.520437Z"
    },
    "id": "90BIcCKcDMxz"
   },
   "outputs": [],
   "source": [
    "def generator_loss(fake_output):\n",
    "    return None"
   ]
  },
  {
   "cell_type": "markdown",
   "metadata": {
    "id": "MgIc7i0th_Iu"
   },
   "source": [
    "The discriminator and the generator optimizers are different since you will train two networks separately."
   ]
  },
  {
   "cell_type": "code",
   "execution_count": null,
   "metadata": {
    "execution": {
     "iopub.execute_input": "2022-12-14T06:05:31.524343Z",
     "iopub.status.busy": "2022-12-14T06:05:31.523771Z",
     "iopub.status.idle": "2022-12-14T06:05:31.531338Z",
     "shell.execute_reply": "2022-12-14T06:05:31.530772Z"
    },
    "id": "iWCn_PVdEJZ7"
   },
   "outputs": [],
   "source": [
    "generator_optimizer = None\n",
    "discriminator_optimizer = None"
   ]
  },
  {
   "cell_type": "markdown",
   "metadata": {
    "id": "mWtinsGDPJlV"
   },
   "source": [
    "### Save checkpoints\n",
    "This notebook also demonstrates how to save and restore models, which can be helpful in case a long running training task is interrupted."
   ]
  },
  {
   "cell_type": "code",
   "execution_count": null,
   "metadata": {
    "execution": {
     "iopub.execute_input": "2022-12-14T06:05:31.534840Z",
     "iopub.status.busy": "2022-12-14T06:05:31.534189Z",
     "iopub.status.idle": "2022-12-14T06:05:31.537977Z",
     "shell.execute_reply": "2022-12-14T06:05:31.537335Z"
    },
    "id": "CA1w-7s2POEy"
   },
   "outputs": [],
   "source": [
    "checkpoint_dir = './training_checkpoints'\n",
    "checkpoint_prefix = os.path.join(checkpoint_dir, \"ckpt\")\n",
    "checkpoint = tf.train.Checkpoint(generator_optimizer=generator_optimizer,\n",
    "                                 discriminator_optimizer=discriminator_optimizer,\n",
    "                                 generator=generator,\n",
    "                                 discriminator=discriminator)"
   ]
  },
  {
   "cell_type": "markdown",
   "metadata": {
    "id": "Rw1fkAczTQYh"
   },
   "source": [
    "## Define the training loop\n"
   ]
  },
  {
   "cell_type": "code",
   "execution_count": null,
   "metadata": {
    "execution": {
     "iopub.execute_input": "2022-12-14T06:05:31.541234Z",
     "iopub.status.busy": "2022-12-14T06:05:31.540683Z",
     "iopub.status.idle": "2022-12-14T06:05:31.544548Z",
     "shell.execute_reply": "2022-12-14T06:05:31.544000Z"
    },
    "id": "NS2GWywBbAWo"
   },
   "outputs": [],
   "source": [
    "EPOCHS = None\n",
    "noise_dim = None\n",
    "num_examples_to_generate = None\n",
    "\n",
    "seed = tf.random.normal([num_examples_to_generate, noise_dim])"
   ]
  },
  {
   "cell_type": "markdown",
   "metadata": {
    "id": "jylSonrqSWfi"
   },
   "source": [
    "The training loop begins with generator receiving a random seed as input. That seed is used to produce an image. The discriminator is then used to classify real images (drawn from the training set) and fakes images (produced by the generator). The loss is calculated for each of these models, and the gradients are used to update the generator and discriminator."
   ]
  },
  {
   "cell_type": "code",
   "execution_count": null,
   "metadata": {
    "execution": {
     "iopub.execute_input": "2022-12-14T06:05:31.547874Z",
     "iopub.status.busy": "2022-12-14T06:05:31.547282Z",
     "iopub.status.idle": "2022-12-14T06:05:31.552573Z",
     "shell.execute_reply": "2022-12-14T06:05:31.551996Z"
    },
    "id": "3t5ibNo05jCB"
   },
   "outputs": [],
   "source": [
    "# Notice the use of `tf.function`\n",
    "# This annotation causes the function to be \"compiled\".\n",
    "@tf.function\n",
    "def train_step(images):\n",
    "  pass"
   ]
  },
  {
   "cell_type": "code",
   "execution_count": null,
   "metadata": {
    "execution": {
     "iopub.execute_input": "2022-12-14T06:05:31.555913Z",
     "iopub.status.busy": "2022-12-14T06:05:31.555446Z",
     "iopub.status.idle": "2022-12-14T06:05:31.560355Z",
     "shell.execute_reply": "2022-12-14T06:05:31.559752Z"
    },
    "id": "2M7LmLtGEMQJ"
   },
   "outputs": [],
   "source": [
    "def train(dataset, epochs):\n",
    "  pass"
   ]
  },
  {
   "cell_type": "markdown",
   "metadata": {
    "id": "2aFF7Hk3XdeW"
   },
   "source": [
    "**Generate and save images**\n"
   ]
  },
  {
   "cell_type": "code",
   "execution_count": null,
   "metadata": {
    "execution": {
     "iopub.execute_input": "2022-12-14T06:05:31.563940Z",
     "iopub.status.busy": "2022-12-14T06:05:31.563314Z",
     "iopub.status.idle": "2022-12-14T06:05:31.567885Z",
     "shell.execute_reply": "2022-12-14T06:05:31.567243Z"
    },
    "id": "RmdVsmvhPxyy"
   },
   "outputs": [],
   "source": [
    "def generate_and_save_images(model, epoch, test_input):\n",
    "  pass"
   ]
  },
  {
   "cell_type": "markdown",
   "metadata": {
    "id": "dZrd4CdjR-Fp"
   },
   "source": [
    "## Train the model\n",
    "Call the `train()` method defined above to train the generator and discriminator simultaneously. Note, training GANs can be tricky. It's important that the generator and discriminator do not overpower each other (e.g., that they train at a similar rate).\n",
    "\n",
    "At the beginning of the training, the generated images look like random noise. As training progresses, the generated digits will look increasingly real. After about 50 epochs, they resemble MNIST digits. This may take about one minute / epoch with the default settings on Colab."
   ]
  },
  {
   "cell_type": "code",
   "execution_count": null,
   "metadata": {
    "execution": {
     "iopub.execute_input": "2022-12-14T06:05:31.571174Z",
     "iopub.status.busy": "2022-12-14T06:05:31.570673Z",
     "iopub.status.idle": "2022-12-14T06:10:51.121992Z",
     "shell.execute_reply": "2022-12-14T06:10:51.121193Z"
    },
    "id": "Ly3UN0SLLY2l"
   },
   "outputs": [],
   "source": [
    "train(train_dataset, EPOCHS)"
   ]
  },
  {
   "cell_type": "markdown",
   "metadata": {
    "id": "rfM4YcPVPkNO"
   },
   "source": [
    "Restore the latest checkpoint."
   ]
  },
  {
   "attachments": {},
   "cell_type": "markdown",
   "metadata": {
    "id": "P4M_vIbUi7c0"
   },
   "source": [
    "### Display an image\n"
   ]
  },
  {
   "cell_type": "code",
   "execution_count": null,
   "metadata": {
    "execution": {
     "iopub.execute_input": "2022-12-14T06:10:51.206745Z",
     "iopub.status.busy": "2022-12-14T06:10:51.206212Z",
     "iopub.status.idle": "2022-12-14T06:10:51.209633Z",
     "shell.execute_reply": "2022-12-14T06:10:51.209011Z"
    },
    "id": "WfO5wCdclHGL"
   },
   "outputs": [],
   "source": [
    "# Display a single image using the epoch number\n",
    "def display_image(epoch_no):\n",
    "  return PIL.Image.open('image_at_epoch_{:04d}.png'.format(epoch_no))"
   ]
  },
  {
   "cell_type": "code",
   "execution_count": null,
   "metadata": {
    "execution": {
     "iopub.execute_input": "2022-12-14T06:10:51.212764Z",
     "iopub.status.busy": "2022-12-14T06:10:51.212242Z",
     "iopub.status.idle": "2022-12-14T06:10:51.231220Z",
     "shell.execute_reply": "2022-12-14T06:10:51.230642Z"
    },
    "id": "5x3q9_Oe5q0A"
   },
   "outputs": [],
   "source": [
    "display_image(EPOCHS)"
   ]
  },
  {
   "cell_type": "code",
   "execution_count": null,
   "metadata": {},
   "outputs": [],
   "source": []
  }
 ],
 "metadata": {
  "accelerator": "GPU",
  "colab": {
   "collapsed_sections": [],
   "name": "dcgan.ipynb",
   "toc_visible": true
  },
  "kernelspec": {
   "display_name": "base",
   "language": "python",
   "name": "python3"
  },
  "language_info": {
   "codemirror_mode": {
    "name": "ipython",
    "version": 3
   },
   "file_extension": ".py",
   "mimetype": "text/x-python",
   "name": "python",
   "nbconvert_exporter": "python",
   "pygments_lexer": "ipython3",
   "version": "3.9.12 (main, Apr  4 2022, 05:22:27) [MSC v.1916 64 bit (AMD64)]"
  },
  "vscode": {
   "interpreter": {
    "hash": "116f0d98ee075869b5dc9f458adbcef3f5ec480ac835205e10bc39137d90951d"
   }
  }
 },
 "nbformat": 4,
 "nbformat_minor": 0
}
