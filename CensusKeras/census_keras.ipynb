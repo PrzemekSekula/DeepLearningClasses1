{
 "cells": [
  {
   "cell_type": "markdown",
   "metadata": {},
   "source": [
    "# Census Income Example\n",
    "This is a Keras example of classification problem. To simplify the data preparation part I used the Census problem from the Sci-Kit Learn class.\n",
    "\n",
    "The dataset comes from http://archive.ics.uci.edu/. \n",
    "\n",
    "Data extraction was done by Barry Becker from the 1994 Census database. A set of reasonably clean records was extracted using the following conditions: ((AAGE>16) && (AGI>100) && (AFNLWGT>1)&& (HRSWK>0)). The data was also preprocessed for the purpose of this example.\n",
    "\n",
    "Prediction task is to determine whether a person makes over 50K a year.\n",
    "\n",
    "\n",
    "### List of attributes:\n",
    "\n",
    "##### Features\n",
    "- age: continuous. \n",
    "- workclass: Private, Self-emp-not-inc, Self-emp-inc, Federal-gov, Local-gov, State-gov, Without-pay, Never-worked. \n",
    "- education: Bachelors, Some-college, 11th, HS-grad, Prof-school, Assoc-acdm, Assoc-voc, 9th, 7th-8th, 12th, Masters, 1st-4th, - 10th, Doctorate, 5th-6th, Preschool. \n",
    "- education-num: continuous. \n",
    "- marital-status: Married-civ-spouse, Divorced, Never-married, Separated, Widowed, Married-spouse-absent, Married-AF-spouse. \n",
    "- occupation: Tech-support, Craft-repair, Other-service, Sales, Exec-managerial, Prof-specialty, Handlers-cleaners, Machine-op-inspct, Adm-clerical, Farming-fishing, Transport-moving, Priv-house-serv, Protective-serv, Armed-Forces. \n",
    "- relationship: Wife, Own-child, Husband, Not-in-family, Other-relative, Unmarried. \n",
    "- race: White, Asian-Pac-Islander, Amer-Indian-Eskimo, Other, Black. \n",
    "- sex: Female, Male. \n",
    "- hours-per-week: continuous. \n",
    "- native-country: United-States, Cambodia, England, Puerto-Rico, Canada, Germany, Outlying-US(Guam-USVI-etc), India, Japan, Greece, South, China, Cuba, Iran, Honduras, Philippines, Italy, Poland, Jamaica, Vietnam, Mexico, Portugal, Ireland, France, Dominican-Republic, Laos, Ecuador, Taiwan, Haiti, Columbia, Hungary, Guatemala, Nicaragua, Scotland, Thailand, Yugoslavia, El-Salvador, Trinadad&Tobago, Peru, Hong, Holand-Netherlands.\n",
    "\n",
    "\n",
    "\n",
    "##### Labels\n",
    "- income - >50K, <=50K. "
   ]
  },
  {
   "cell_type": "markdown",
   "metadata": {},
   "source": [
    "# Install tensorflow\n",
    "If necessary uncomment one of the lines below"
   ]
  },
  {
   "cell_type": "code",
   "execution_count": null,
   "metadata": {},
   "outputs": [],
   "source": [
    "# Tensorflow installation - uncomment if necessary\n",
    "#!pip install tensorflow"
   ]
  },
  {
   "cell_type": "markdown",
   "metadata": {},
   "source": [
    "# Imports"
   ]
  },
  {
   "cell_type": "code",
   "execution_count": null,
   "metadata": {},
   "outputs": [],
   "source": [
    "import pandas as pd\n",
    "import numpy as np\n",
    "import tensorflow as tf\n",
    "\n",
    "import matplotlib.pyplot as plt\n",
    "%matplotlib inline"
   ]
  },
  {
   "cell_type": "markdown",
   "metadata": {},
   "source": [
    "### Load dataset"
   ]
  },
  {
   "cell_type": "code",
   "execution_count": null,
   "metadata": {},
   "outputs": [],
   "source": [
    "df = pd.read_csv(\"https://github.com/PrzemekSekula/DeepLearningClasses1/raw/master/data/census.csv\")\n",
    "\n",
    "print (df.shape)\n",
    "print (df.columns)\n",
    "df.head()"
   ]
  },
  {
   "cell_type": "markdown",
   "metadata": {},
   "source": [
    "# Data preparation\n",
    "### Selecting columns\n",
    "Personaly I decided to delete the following columns:\n",
    "- education - we have education-num, this is enough\n",
    "- marital status - too many classes\n",
    "- relationship - I am not sure if it is useful, and there are many classes\n",
    "- race - I am not sure if it is useful\n",
    "- native-country - too many classes\n",
    "\n",
    "**I deleted many columns just to make the task easier to read. Students are encouraged to experiment with the columns and check if they can improve the results.**\n"
   ]
  },
  {
   "cell_type": "code",
   "execution_count": null,
   "metadata": {},
   "outputs": [],
   "source": [
    "df = df[['age', 'workclass', 'education-num', 'occupation', \n",
    "         'sex', 'hours-per-week', 'income']]\n",
    "\n",
    "df.head()"
   ]
  },
  {
   "cell_type": "markdown",
   "metadata": {},
   "source": [
    "### Data preprocessing"
   ]
  },
  {
   "cell_type": "markdown",
   "metadata": {},
   "source": [
    "#### First step - change the labels into binary values."
   ]
  },
  {
   "cell_type": "code",
   "execution_count": null,
   "metadata": {},
   "outputs": [],
   "source": [
    "df['income'] = df['income'].replace({'<=50K': 0, '>50K': 1}).astype(int, errors='ignore')\n",
    "print (df.income.value_counts())\n",
    "df.head()"
   ]
  },
  {
   "cell_type": "markdown",
   "metadata": {},
   "source": [
    "#### Second step - change the `sex` column into binary values"
   ]
  },
  {
   "cell_type": "code",
   "execution_count": null,
   "metadata": {},
   "outputs": [],
   "source": [
    "df = pd.get_dummies(df, columns=['sex'], drop_first=True)\n",
    "df.head()"
   ]
  },
  {
   "cell_type": "markdown",
   "metadata": {},
   "source": [
    "#### Third step - replace rare classes"
   ]
  },
  {
   "cell_type": "markdown",
   "metadata": {},
   "source": [
    "Let's check if we have any rare classes"
   ]
  },
  {
   "cell_type": "code",
   "execution_count": null,
   "metadata": {},
   "outputs": [],
   "source": [
    "df.workclass.value_counts()"
   ]
  },
  {
   "cell_type": "code",
   "execution_count": null,
   "metadata": {},
   "outputs": [],
   "source": [
    "df.occupation.value_counts()"
   ]
  },
  {
   "cell_type": "markdown",
   "metadata": {},
   "source": [
    "Then we should replace rare classes for one-hot encoded columns"
   ]
  },
  {
   "cell_type": "code",
   "execution_count": null,
   "metadata": {},
   "outputs": [],
   "source": [
    "df.loc[df.workclass.isin(['Without-pay', 'Never-worked']), 'workclass'] = '?'\n",
    "df.workclass.value_counts()"
   ]
  },
  {
   "cell_type": "code",
   "execution_count": null,
   "metadata": {},
   "outputs": [],
   "source": [
    "df.loc[df.occupation.isin(['Protective-serv', 'Priv-house-serv', 'Armed-Forces']), 'occupation'] = '?'\n",
    "df.occupation.value_counts()"
   ]
  },
  {
   "cell_type": "markdown",
   "metadata": {},
   "source": [
    "#### Final step - one hot encoding"
   ]
  },
  {
   "cell_type": "code",
   "execution_count": null,
   "metadata": {},
   "outputs": [],
   "source": [
    "df = pd.get_dummies(df, columns=['workclass', 'occupation'])\n",
    "print (df.shape)\n",
    "print (df.columns)\n",
    "df.head()"
   ]
  },
  {
   "cell_type": "markdown",
   "metadata": {},
   "source": [
    "## Splitting dataset"
   ]
  },
  {
   "cell_type": "markdown",
   "metadata": {},
   "source": [
    "Let's split the dataset into features and labels first.\n",
    "- `income` is the label (`y`)\n",
    "- all other columns are features (`X`)"
   ]
  },
  {
   "cell_type": "code",
   "execution_count": null,
   "metadata": {},
   "outputs": [],
   "source": [
    "y = np.array(df.income).astype('int32')\n",
    "X = np.array(df.drop(['income'], axis=1)).astype('float32')"
   ]
  },
  {
   "cell_type": "markdown",
   "metadata": {},
   "source": [
    "### Train test split\n",
    "#### NOTE: This time we want to split the data into 3 datasets\n",
    "Split ratio: 60, 20, 20"
   ]
  },
  {
   "cell_type": "code",
   "execution_count": null,
   "metadata": {},
   "outputs": [],
   "source": [
    "from sklearn.model_selection import train_test_split\n",
    "X_train, X_test, y_train, y_test = train_test_split(X, y, test_size=0.4, \n",
    "                                                    stratify = y, random_state=1)\n",
    "\n",
    "X_valid, X_test, y_valid, y_test = train_test_split(X_test, y_test, test_size=0.5, \n",
    "                                                    stratify = y_test, random_state=1)\n",
    "\n",
    "\n",
    "print ('X train shape:', X_train.shape)\n",
    "print ('y train shape:', y_train.shape)\n",
    "\n",
    "print ('X valid shape:', X_valid.shape)\n",
    "print ('y valid shape:', y_valid.shape)\n",
    "\n",
    "print ('X test shape:', X_test.shape)\n",
    "print ('y test shape:', y_test.shape)"
   ]
  },
  {
   "cell_type": "markdown",
   "metadata": {},
   "source": [
    "# Keras"
   ]
  },
  {
   "cell_type": "markdown",
   "metadata": {},
   "source": [
    "Import modules"
   ]
  },
  {
   "cell_type": "code",
   "execution_count": null,
   "metadata": {},
   "outputs": [],
   "source": [
    "from tensorflow.keras.models import Sequential\n",
    "from tensorflow.keras.layers import Dense, Dropout, Input\n",
    "from tensorflow.keras import optimizers"
   ]
  },
  {
   "cell_type": "markdown",
   "metadata": {},
   "source": [
    "## Building model"
   ]
  },
  {
   "cell_type": "markdown",
   "metadata": {},
   "source": [
    "Let's define the hyperparameters first"
   ]
  },
  {
   "cell_type": "code",
   "execution_count": null,
   "metadata": {},
   "outputs": [],
   "source": [
    "CELLS_1 = 32\n",
    "CELLS_2 = 8\n",
    "LEARNING_RATE = 0.001\n",
    "EPOCHS = 10\n",
    "BATCH_SIZE = 128\n",
    "\n",
    "\n",
    "NR_INPUTS = X_train.shape[1]\n",
    "\n",
    "print ('X_train dataset cointains {} features (columns).'.format(NR_INPUTS))"
   ]
  },
  {
   "cell_type": "markdown",
   "metadata": {},
   "source": [
    "Now we may build the model"
   ]
  },
  {
   "cell_type": "code",
   "execution_count": null,
   "metadata": {},
   "outputs": [],
   "source": [
    "model = Sequential()\n",
    "\n",
    "model.add(Input([NR_INPUTS, ]))\n",
    "model.add(Dense(CELLS_1, activation='relu'))\n",
    "model.add(Dense(CELLS_2, activation='relu'))\n",
    "model.add(Dense(1, activation='sigmoid'))\n",
    "\n",
    "optimizer = optimizers.Adam(learning_rate=LEARNING_RATE)\n",
    "\n",
    "model.compile(loss = 'binary_crossentropy', optimizer=optimizer, metrics=['accuracy'])\n",
    "\n",
    "model.summary()"
   ]
  },
  {
   "cell_type": "code",
   "execution_count": null,
   "metadata": {},
   "outputs": [],
   "source": [
    "history = model.fit(X_train, y_train, \n",
    "                    validation_data = (X_valid, y_valid),\n",
    "                    batch_size = BATCH_SIZE, \n",
    "                    epochs=EPOCHS)"
   ]
  },
  {
   "cell_type": "markdown",
   "metadata": {},
   "source": [
    "Let's display the training history"
   ]
  },
  {
   "cell_type": "code",
   "execution_count": null,
   "metadata": {},
   "outputs": [],
   "source": [
    "def plot_train_valid_history(history):\n",
    "    \"\"\"\n",
    "    Plots train and validation losses.\n",
    "    Arguments: history - history of training (result of keras model.fit).\n",
    "        history.history must be a dictionary that looks as follow:\n",
    "        {\n",
    "            'loss' : .....\n",
    "            'valid_loss' : .....\n",
    "            'accuracy' : .... # Optional\n",
    "            'val_accuracy' : ..... # Optional\n",
    "        }\n",
    "    \"\"\"\n",
    "    epochs = np.arange(len(history.history['val_loss'])) + 1\n",
    "    fig = plt.figure(figsize=(8, 4))\n",
    "    if 'accuracy' in history.history:\n",
    "        ax1 = fig.add_subplot(121)\n",
    "        ax1.plot(epochs, history.history['loss'], c='b', label='Train loss')\n",
    "        ax1.plot(epochs, history.history['val_loss'], c='g', label='Valid loss')\n",
    "        plt.legend(loc='lower left');\n",
    "        plt.grid(True)        \n",
    "        \n",
    "        ax1 = fig.add_subplot(122)\n",
    "        ax1.plot(epochs, history.history['accuracy'], c='b', label='Train acc')\n",
    "        ax1.plot(epochs, history.history['val_accuracy'], c='g', label='Valid acc')\n",
    "        plt.legend(loc='lower right');\n",
    "        plt.grid(True)        \n",
    "         \n",
    "        \n",
    "    else:\n",
    "        ax1 = fig.add_subplot(111)\n",
    "        ax1.plot(epochs, history.history['loss'], c='b', label='Train loss')\n",
    "        ax1.plot(epochs, history.history['val_loss'], c='g', label='Valid loss')\n",
    "        plt.legend(loc='lower left');\n",
    "        plt.grid(True)\n",
    "    plt.show()\n",
    "\n",
    "\n",
    "plot_train_valid_history(history)"
   ]
  },
  {
   "cell_type": "code",
   "execution_count": null,
   "metadata": {},
   "outputs": [],
   "source": [
    "score, acc = model.evaluate(X_test, y_test)\n",
    "print('Test score:', score)\n",
    "print('Test accuracy:', acc)"
   ]
  },
  {
   "cell_type": "markdown",
   "metadata": {},
   "source": [
    "## Task 1\n",
    "Create, train and test a model with following parameters:\n",
    "- First hidden layer: 32 neurons, relu activation\n",
    "- Dropout after first hidden layer keep_probability = 0.5\n",
    "- Second hidden layer: 32 neurons, relu activation\n",
    "- Output layer: 1 neuron, sigmoid activation\n",
    "\n",
    "Training parameters:\n",
    "- Learning Rate: 0.0003\n",
    "- Number of Epochs: 50\n",
    "- Batch size: 128\n",
    "\n",
    "*Note: You will need your model in task 2, so it is a good idea to write a function, which creates the model.*\n",
    "\n",
    "![alt text](./img/model_keras_task1.png \"Task 1 model\")"
   ]
  },
  {
   "cell_type": "code",
   "execution_count": null,
   "metadata": {},
   "outputs": [],
   "source": [
    "# HYPERPARAMETERS\n",
    "# ENTER YOUR CODE HERE\n"
   ]
  },
  {
   "cell_type": "code",
   "execution_count": null,
   "metadata": {},
   "outputs": [],
   "source": [
    "def create_model():\n",
    "    # ENTER YOUR CODE HERE\n",
    "\n",
    "    return model\n"
   ]
  },
  {
   "cell_type": "code",
   "execution_count": null,
   "metadata": {},
   "outputs": [],
   "source": []
  },
  {
   "cell_type": "code",
   "execution_count": null,
   "metadata": {},
   "outputs": [],
   "source": [
    "# ENTER YOUR CODE HERE\n"
   ]
  },
  {
   "cell_type": "markdown",
   "metadata": {},
   "source": [
    "## Question 1\n",
    "- How does the model behave. Can you see any overfitting or undergitting problems?\n",
    "- How you can prevent these problems?"
   ]
  },
  {
   "cell_type": "markdown",
   "metadata": {},
   "source": [
    "## Task 2\n",
    "Normalize your features. Use StandardScaler from sklearn.preprocessing library. Then train your model on the normalized features. Did it change anything with the behaviour of the model?"
   ]
  },
  {
   "cell_type": "code",
   "execution_count": null,
   "metadata": {},
   "outputs": [],
   "source": [
    "from sklearn.preprocessing import StandardScaler\n",
    "# ENTER YOUR CODE HERE"
   ]
  },
  {
   "cell_type": "code",
   "execution_count": null,
   "metadata": {},
   "outputs": [],
   "source": [
    "# Create and train the model\n",
    "# ENTER YOUR CODE HERE\n"
   ]
  },
  {
   "cell_type": "code",
   "execution_count": null,
   "metadata": {},
   "outputs": [],
   "source": []
  },
  {
   "cell_type": "code",
   "execution_count": null,
   "metadata": {},
   "outputs": [],
   "source": []
  },
  {
   "cell_type": "code",
   "execution_count": null,
   "metadata": {},
   "outputs": [],
   "source": []
  }
 ],
 "metadata": {
  "kernelspec": {
   "display_name": "Python 3 (ipykernel)",
   "language": "python",
   "name": "python3"
  },
  "language_info": {
   "codemirror_mode": {
    "name": "ipython",
    "version": 3
   },
   "file_extension": ".py",
   "mimetype": "text/x-python",
   "name": "python",
   "nbconvert_exporter": "python",
   "pygments_lexer": "ipython3",
   "version": "3.12.9"
  }
 },
 "nbformat": 4,
 "nbformat_minor": 4
}
